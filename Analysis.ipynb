{
 "cells": [
  {
   "cell_type": "code",
   "execution_count": null,
   "id": "5bc79510",
   "metadata": {},
   "outputs": [],
   "source": [
    "# Cell 1: Imports\n",
    "import pandas as pd\n",
    "import matplotlib.pyplot as plt\n",
    "import seaborn as sns\n",
    "%matplotlib inline\n",
    "\n"
   ]
  },
  {
   "cell_type": "code",
   "execution_count": null,
   "id": "1807ef76",
   "metadata": {},
   "outputs": [],
   "source": [
    "# Verify if the 'value' column exists in the dataset\n",
    "if 'value' not in df.columns:\n",
    "  print(\"Column 'value' does not exist in the dataset. Please check the column names.\")\n",
    "  print(\"Available columns:\", df.columns.tolist())\n",
    "else:\n",
    "  print(\"Column 'value' exists. Proceeding with visualization.\")"
   ]
  },
  {
   "cell_type": "code",
   "execution_count": null,
   "id": "5c38054f",
   "metadata": {},
   "outputs": [],
   "source": [
    "# Cell 2: Load and Explore Data\n",
    "df = pd.read_csv('World Population Live Dataset.csv')\n",
    "print(\"\\n=== Dataset Overview ===\")\n",
    "print(\"\\nFirst 5 rows:\")\n",
    "display(df.head())\n",
    "\n",
    "print(\"\\nDataset Shape:\", df.shape)\n",
    "print(\"\\nColumns:\", df.columns.tolist())\n"
   ]
  },
  {
   "cell_type": "code",
   "execution_count": null,
   "id": "9ff6b858",
   "metadata": {},
   "outputs": [],
   "source": [
    "\n",
    "# Cell 3: Data Analysis\n",
    "print(\"\\n=== Statistical Analysis ===\")\n",
    "print(\"\\nNumerical Columns Summary:\")\n",
    "display(df.describe().round(2))\n"
   ]
  },
  {
   "cell_type": "code",
   "execution_count": null,
   "id": "6d704cda",
   "metadata": {},
   "outputs": [],
   "source": [
    "\n",
    "# Cell 4: Visualizations\n",
    "plt.figure(figsize=(12, 6))\n",
    "sns.lineplot(data=df, x='Year', y='value', linewidth=2.5, marker='o')\n",
    "plt.title('Population Trend Over Time')\n",
    "plt.show()"
   ]
  }
 ],
 "metadata": {
  "kernelspec": {
   "display_name": "Python 3",
   "language": "python",
   "name": "python3"
  },
  "language_info": {
   "codemirror_mode": {
    "name": "ipython",
    "version": 3
   },
   "file_extension": ".py",
   "mimetype": "text/x-python",
   "name": "python",
   "nbconvert_exporter": "python",
   "pygments_lexer": "ipython3",
   "version": "3.11.9"
  }
 },
 "nbformat": 4,
 "nbformat_minor": 5
}
